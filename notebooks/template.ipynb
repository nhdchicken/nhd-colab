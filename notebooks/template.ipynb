{
 "cells": [
  {
   "cell_type": "markdown",
   "metadata": {},
   "source": [
    "# NHD Colab NoteBook Template\n",
    "\n"
   ]
  },
  {
   "cell_type": "markdown",
   "metadata": {},
   "source": [
    "# Cloning the NHD Colab Repos\n",
    "\n",
    "The following cell determines whether you are running in colab and if the git repos should be cloned. \n",
    "Just copy and past this cell as is\n"
   ]
  },
  {
   "cell_type": "code",
   "execution_count": 1,
   "metadata": {},
   "outputs": [
    {
     "name": "stdout",
     "output_type": "stream",
     "text": [
      "Not running in Colab - going to root of repos\n",
      "/Users/lpbrac/gitlab/pyops/nhd/nhd-colab\n",
      "Great Success!\n"
     ]
    }
   ],
   "source": [
    "%%bash\n",
    "if [  -d \"/content/nhd-colab\" ]\n",
    "then\n",
    "   echo \"Environment already initialized\"\n",
    "elif [ -d \"/content\" ] && [ ! -d \"/content/nhd-colab\" ]\n",
    "then\n",
    "    cd /content || exit 1;\n",
    "    echo \"Installing https://github.com/nhdchicken/nhd-colab.git\"\n",
    "    git clone --recurse-submodules https://github.com/nhdchicken/nhd-colab.git || exit 1;\n",
    "    cd nhd-colab || exit 1;\n",
    "else\n",
    "    echo \"Not running in Colab - going to root of repos\"\n",
    "    cd `git rev-parse --show-toplevel` || exit 1;\n",
    "fi\n",
    "pwd\n",
    "pip install utils/colab_install/ > /dev/null 2>&1 || exit 1;\n",
    "colab > /dev/null 2>&1 || exit 1;\n",
    "echo \"Great Success!\""
   ]
  },
  {
   "cell_type": "markdown",
   "metadata": {},
   "source": [
    "# Optional\n",
    "\n",
    "The following cell can be removed from you notebook. It show how to \n",
    "list the components and the list of patches for a specific component\n"
   ]
  },
  {
   "cell_type": "code",
   "execution_count": 5,
   "metadata": {},
   "outputs": [
    {
     "name": "stdout",
     "output_type": "stream",
     "text": [
      "running TensorFlow Version 2.2.0\u001B[0m\n",
      "\u001B[33mgoing to repos root dir /Users/lpbrac/gitlab/pyops/nhd/nhd-colab\u001B[0m\n",
      "loading install config /Users/lpbrac/gitlab/pyops/nhd/nhd-colab/install.yml\u001B[0m\n",
      "\u001B[36mlist of components\u001B[0m\n",
      "\u001B[32mmp-mask-rcnn\u001B[0m\n",
      "\u001B[36minstalls the Mask-RCNN which is a sub-module under nhd-colab/mask-rcnn/matterport\n",
      "the original repository is https://github.com/matterport/Mask_RCNN\n",
      "\u001B[0m\n",
      "\u001B[32myolov4-tf\u001B[0m\n",
      "\u001B[36mInstall the requirement for YoloV4 submodules\n",
      "\u001B[0m\n",
      "\u001B[32myaml-example\u001B[0m\n",
      "\u001B[36mThis is just an example\n",
      "\u001B[0m\n",
      "--------------------------\n",
      "running TensorFlow Version 2.2.0\u001B[0m\n",
      "\u001B[33mgoing to repos root dir /Users/lpbrac/gitlab/pyops/nhd/nhd-colab\u001B[0m\n",
      "loading install config /Users/lpbrac/gitlab/pyops/nhd/nhd-colab/install.yml\u001B[0m\n",
      "\u001B[32mComponent mp-mask-rcnn\u001B[0m\n",
      "\u001B[36m>>> processing patch group tensorflow_2\u001B[0m\n",
      "\u001B[32m\trequirements\u001B[0m\n",
      "\u001B[32m\t\toriginal /Users/lpbrac/gitlab/pyops/nhd/nhd-colab/mask-rcnn/matterport/requirements.txt\u001B[0m\n",
      "\u001B[32m\t\tmodified /Users/lpbrac/gitlab/pyops/nhd/nhd-colab/patches/matterport-mrcnn/requirements.txt\u001B[0m\n",
      "\u001B[32m\tmodel\u001B[0m\n",
      "\u001B[32m\t\toriginal /Users/lpbrac/gitlab/pyops/nhd/nhd-colab/mask-rcnn/matterport/mrcnn/model.py\u001B[0m\n",
      "\u001B[32m\t\tmodified /Users/lpbrac/gitlab/pyops/nhd/nhd-colab/patches/matterport-mrcnn/model.py\u001B[0m\n",
      "\u001B[32m\tutils\u001B[0m\n",
      "\u001B[32m\t\toriginal /Users/lpbrac/gitlab/pyops/nhd/nhd-colab/mask-rcnn/matterport/mrcnn/utils.py\u001B[0m\n",
      "\u001B[32m\t\tmodified /Users/lpbrac/gitlab/pyops/nhd/nhd-colab/patches/matterport-mrcnn/utils.py\u001B[0m\n"
     ]
    }
   ],
   "source": [
    "!colab show -d \n",
    "!echo --------------------------\n",
    "!colab patch -l mp-mask-rcnn"
   ]
  },
  {
   "cell_type": "markdown",
   "metadata": {},
   "source": [
    "# Component Installation\n",
    "\n",
    "The next cell initializes the components by running the commands specified in the [install.yaml](../install.yaml)\n",
    "as well as the patches required. I not patch group is specified, all patch groups are installed. To disable patching\n",
    "use --no-patch\n"
   ]
  },
  {
   "cell_type": "code",
   "execution_count": 6,
   "metadata": {},
   "outputs": [
    {
     "name": "stdout",
     "output_type": "stream",
     "text": [
      "running TensorFlow Version 2.2.0\u001B[0m\n",
      "\u001B[33mgoing to repos root dir /Users/lpbrac/gitlab/pyops/nhd/nhd-colab\u001B[0m\n",
      "loading install config /Users/lpbrac/gitlab/pyops/nhd/nhd-colab/install.yml\u001B[0m\n",
      "\u001B[36minstalling components\u001B[0m\n",
      "\u001B[32mmp-mask-rcnn already installed - skipping\u001B[0m\n"
     ]
    }
   ],
   "source": [
    "!colab init mp-mask-rcnn --patch-group tensorflow_2"
   ]
  },
  {
   "cell_type": "markdown",
   "metadata": {},
   "source": [
    "# Setting the root of the repos\n",
    "\n",
    "this piece of code set the current working directory at the root of the nhd-colab repos. \n",
    "It also sets the **NHD_COLAB_REPOS_ROOT** to that location (type pathlib.Path()).\n"
   ]
  },
  {
   "cell_type": "code",
   "execution_count": 7,
   "metadata": {},
   "outputs": [
    {
     "name": "stdout",
     "output_type": "stream",
     "text": [
      "Finding root of git repository\n",
      "NHD_COLAB_REPOS_ROOT=/Users/lpbrac/gitlab/pyops/nhd/nhd-colab\n",
      "OK!\n"
     ]
    }
   ],
   "source": [
    "# This cell goes to the repository root of nhd-colab and sets the NHD_COLAB_REPOS_ROOT variable.\n",
    "import os\n",
    "import pathlib\n",
    "import subprocess\n",
    "if os.getcwd() == '/content':\n",
    "  print(\"Running in Colab\")\n",
    "  NHD_COLAB_REPOS_ROOT = pathlib.Path(os.getcwd()) / 'nhd-colab'\n",
    "else:\n",
    "  print(\"Finding root of git repository\")\n",
    "  NHD_COLAB_REPOS_ROOT = pathlib.Path(subprocess.check_output('git rev-parse --show-toplevel', shell=True).decode('utf-8').strip())\n",
    "os.chdir(NHD_COLAB_REPOS_ROOT)\n",
    "assert os.getcwd() == str(NHD_COLAB_REPOS_ROOT.cwd())\n",
    "assert os.getcwd().endswith('/nhd-colab')\n",
    "print(f\"NHD_COLAB_REPOS_ROOT={NHD_COLAB_REPOS_ROOT}\\nOK!\")"
   ]
  },
  {
   "cell_type": "markdown",
   "metadata": {},
   "source": [
    "# Mount the Google Drive (Optional)\n",
    "\n",
    "Mounts the google drive and store the location in **NHD_COLAB_DRIVE**. Otherwise, create a temporary drive in the root repository."
   ]
  },
  {
   "cell_type": "code",
   "execution_count": 10,
   "metadata": {},
   "outputs": [
    {
     "name": "stdout",
     "output_type": "stream",
     "text": [
      "Google drive not mounted since not running in Colab - using /Users/lpbrac/gitlab/pyops/nhd/nhd-colab/drive\n"
     ]
    }
   ],
   "source": [
    "import os\n",
    "import pathlib\n",
    "\n",
    "NHD_COLAB_DRIVE = pathlib.Path(\"/content/drive/My Drive\")\n",
    "\n",
    "try:\n",
    "    from google.colab import drive\n",
    "    drive.mount('/content/drive/')\n",
    "except ModuleNotFoundError:\n",
    "    NHD_COLAB_DRIVE = pathlib.Path(os.environ.get('NHD_COLAB_DRIVE', NHD_COLAB_REPOS_ROOT / 'drive'))\n",
    "    print(f\"Google drive not mounted since not running in Colab - using {NHD_COLAB_DRIVE}\")\n",
    "    if not NHD_COLAB_DRIVE.is_dir():\n",
    "        NHD_COLAB_DRIVE.mkdir(parents=True, exist_ok=True)\n",
    "assert NHD_COLAB_DRIVE.is_dir(), f\"{NHD_COLAB_DRIVE} not found\"\n"
   ]
  }
 ],
 "metadata": {
  "kernelspec": {
   "display_name": "Python 3",
   "language": "python",
   "name": "python3"
  },
  "language_info": {
   "codemirror_mode": {
    "name": "ipython",
    "version": 3
   },
   "file_extension": ".py",
   "mimetype": "text/x-python",
   "name": "python",
   "nbconvert_exporter": "python",
   "pygments_lexer": "ipython3",
   "version": "3.7.4"
  }
 },
 "nbformat": 4,
 "nbformat_minor": 2
}