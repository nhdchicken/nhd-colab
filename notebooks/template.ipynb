{
 "cells": [
  {
   "cell_type": "markdown",
   "metadata": {},
   "source": [
    "# NHD Colab NoteBook Template\n",
    "\n"
   ]
  },
  {
   "cell_type": "markdown",
   "metadata": {},
   "source": [
    "# Cloning the NHD Colab Repos\n",
    "\n",
    "The following cell determines whether you are running in colab and if the git repos should be cloned. \n",
    "Just copy and past this cell as is\n"
   ]
  },
  {
   "cell_type": "code",
   "execution_count": null,
   "metadata": {},
   "outputs": [],
   "source": [
    "%%bash\n",
    "if [  -d \"/content/nhd-colab\" ]\n",
    "then\n",
    "   echo \"Environment already initialized\"\n",
    "elif [ -d \"/content\" ] && [ ! -d \"/content/nhd-colab\" ]\n",
    "then\n",
    "    cd /content || exit 1;\n",
    "    echo \"Installing https://github.com/nhdchicken/nhd-colab.git\"\n",
    "    git clone --recurse-submodules https://github.com/nhdchicken/nhd-colab.git || exit 1;\n",
    "    cd nhd-colab || exit 1;\n",
    "else\n",
    "    echo \"Not running in Colab - going to root of repos\"\n",
    "    cd `git rev-parse --show-toplevel` || exit 1;\n",
    "fi\n",
    "pwd\n",
    "pip install utils/nhdcolab > /dev/null 2>&1 || exit 1;\n",
    "nhdcolab > /dev/null 2>&1 || exit 1;\n",
    "echo \"Great Success!\""
   ]
  },
  {
   "cell_type": "markdown",
   "metadata": {},
   "source": [
    "# Optional\n",
    "\n",
    "The following cell can be removed from you notebook. It show how to \n",
    "list the components and the list of patches for a specific component\n"
   ]
  },
  {
   "cell_type": "code",
   "execution_count": null,
   "metadata": {},
   "outputs": [],
   "source": [
    "!nhdcolab show -d \n",
    "!echo --------------------------\n",
    "!nhdcolab patch -l mp-mask-rcnn"
   ]
  },
  {
   "cell_type": "markdown",
   "metadata": {},
   "source": [
    "# Component Installation\n",
    "\n",
    "The next cell initializes the components by running the commands specified in the [install.yaml](../install.yaml)\n",
    "as well as the patches required. I not patch group is specified, all patch groups are installed. To disable patching\n",
    "use --no-patch\n"
   ]
  },
  {
   "cell_type": "code",
   "execution_count": null,
   "metadata": {},
   "outputs": [],
   "source": [
    "!nhdcolab init mp-mask-rcnn --patch-group tensorflow_2"
   ]
  },
  {
   "cell_type": "markdown",
   "metadata": {},
   "source": [
    "# Loading the Environment\n",
    "\n",
    "this piece of code set the current working directory at the root of the nhd-colab repos. \n",
    "It also sets the **NHD_COLAB_REPOS_ROOT** to that location (type pathlib.Path()).\n"
   ]
  },
  {
   "cell_type": "code",
   "execution_count": null,
   "metadata": {},
   "outputs": [],
   "source": [
    "from nhdcolab.environment import NHDEnvironment\n",
    "NHD_ENV = NHDEnvironment(gdrive_mount=True)\n",
    "\n",
    "print(\"Environment Variables\")\n",
    "print(f\"\\tNHD_ENV.IN_COLAB Returns True if running in Colab [{NHD_ENV.IN_COLAB}]\\n\")\n",
    "print(f\"\\tNHD_COLAB_REPOS_ROOT Returns the root location of the colab repository (as pathlib.Path) [{NHD_ENV.NHD_COLAB_REPOS_ROOT}]\\n\")     \n",
    "print(f\"\\tNHD_ENV.NHD_COLAB_DRIVE Returns the location of the google drive location (as pathlib.Path) [{NHD_ENV.NHD_COLAB_DRIVE}]\\n\")\n",
    "print(f\"\\tNHD_ENV.NHD_COLAB_TEST_MATERIAL Returns the location of the test material (as pathlib.Path) [{NHD_ENV.NHD_COLAB_TEST_MATERIAL}\\n]\")\n",
    "print(f\"\\tNHD_ENV.IS_JETSON Return True if running on Jetson board, false otherwise. [{NHD_ENV.IS_JETSON}]\\n\")\n",
    "\n"
   ]
  }
 ],
 "metadata": {
  "kernelspec": {
   "display_name": "Python 3",
   "language": "python",
   "name": "python3"
  },
  "language_info": {
   "codemirror_mode": {
    "name": "ipython",
    "version": 3
   },
   "file_extension": ".py",
   "mimetype": "text/x-python",
   "name": "python",
   "nbconvert_exporter": "python",
   "pygments_lexer": "ipython3",
   "version": "3.6.9"
  }
 },
 "nbformat": 4,
 "nbformat_minor": 2
}