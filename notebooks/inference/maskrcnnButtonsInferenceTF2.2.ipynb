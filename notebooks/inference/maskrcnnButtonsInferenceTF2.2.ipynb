{
  "nbformat": 4,
  "nbformat_minor": 0,
  "metadata": {
    "colab": {
      "name": "maskrcnnButtonsInference.ipynb",
      "provenance": [],
      "collapsed_sections": [],
      "include_colab_link": true
    },
    "kernelspec": {
      "name": "python3",
      "display_name": "Python 3"
    },
    "accelerator": "GPU"
  },
  "cells": [
    {
      "cell_type": "markdown",
      "metadata": {
        "id": "view-in-github",
        "colab_type": "text"
      },
      "source": [
        "<a href=\"https://colab.research.google.com/github/nhdchicken/nhd-colab/blob/master/notebooks/inference/maskrcnnButtonsInferenceTF2.2.ipynb\" target=\"_parent\"><img src=\"https://colab.research.google.com/assets/colab-badge.svg\" alt=\"Open In Colab\"/></a>"
      ]
    },
    {
      "cell_type": "markdown",
      "metadata": {
        "id": "Dt-XN8A6CGO_",
        "colab_type": "text"
      },
      "source": [
        "**Mask R-CNN Demo on Buttons dataset**\n",
        "\n",
        "\n",
        "> A quick intro to using the pre-trained model to detect the UI buttons.\n",
        "\n",
        "\n",
        "\n"
      ]
    },
    {
      "cell_type": "markdown",
      "metadata": {
        "id": "KrdukESorm-1",
        "colab_type": "text"
      },
      "source": [
        "This experiment is performed on colab so mount the nhdchicken drive."
      ]
    },
    {
      "cell_type": "code",
      "metadata": {
        "id": "qjXbjk3hq-Yn",
        "colab_type": "code",
        "colab": {}
      },
      "source": [
        "%%bash\n",
        "if [  -d \"/content/nhd-colab\" ]\n",
        "then\n",
        "   echo \"Environment already initialized\"\n",
        "elif [ -d \"/content\" ] && [ ! -d \"/content/nhd-colab\" ]\n",
        "then\n",
        "    cd /content || exit 1;\n",
        "    echo \"Installing https://github.com/nhdchicken/nhd-colab.git\"\n",
        "    git clone --recurse-submodules https://github.com/nhdchicken/nhd-colab.git || exit 1;\n",
        "    cd nhd-colab || exit 1;\n",
        "else\n",
        "    echo \"Not running in Colab - going to root of repos\"\n",
        "    cd `git rev-parse --show-toplevel` || exit 1;\n",
        "fi\n",
        "pwd\n",
        "pip install utils/nhdcolab/ > /dev/null 2>&1 || exit 1;\n",
        "nhdcolab > /dev/null 2>&1 || exit 1;\n",
        "echo \"Great Success!\""
      ],
      "execution_count": null,
      "outputs": []
    },
    {
      "cell_type": "code",
      "metadata": {
        "id": "DVtYel4ZaVEc",
        "colab_type": "code",
        "colab": {}
      },
      "source": [
        "!nhdcolab init mp-mask-rcnn"
      ],
      "execution_count": null,
      "outputs": []
    },
    {
      "cell_type": "code",
      "metadata": {
        "id": "xX8wNHFWOB3S",
        "colab_type": "code",
        "colab": {}
      },
      "source": [
        "from nhdcolab.environment import NHDEnvironment\n",
        "NHD_ENV = NHDEnvironment(gdrive_mount=True)"
      ],
      "execution_count": null,
      "outputs": []
    },
    {
      "cell_type": "markdown",
      "metadata": {
        "id": "RRUVlWbKD0qy",
        "colab_type": "text"
      },
      "source": [
        "Move to Mask_RCNN directory on the drive"
      ]
    },
    {
      "cell_type": "code",
      "metadata": {
        "id": "O0l0nuIbanVg",
        "colab_type": "code",
        "colab": {}
      },
      "source": [
        "cd mask-rcnn/matterport/"
      ],
      "execution_count": null,
      "outputs": []
    },
    {
      "cell_type": "markdown",
      "metadata": {
        "id": "yGscYuX_EEZP",
        "colab_type": "text"
      },
      "source": [
        "Import the required libraries"
      ]
    },
    {
      "cell_type": "code",
      "metadata": {
        "id": "rm4FkJb0arHM",
        "colab_type": "code",
        "colab": {}
      },
      "source": [
        "from mrcnn.config import Config\n",
        "from mrcnn import model as modellib\n",
        "from mrcnn import visualize\n",
        "import mrcnn\n",
        "from mrcnn.utils import Dataset\n",
        "from mrcnn.model import MaskRCNN\n",
        "import numpy as np\n",
        "from numpy import zeros\n",
        "from numpy import asarray\n",
        "import imutils\n",
        "import random\n",
        "import cv2\n",
        "import os\n",
        "from keras.models import load_model\n",
        "%matplotlib inline\n",
        "from keras.preprocessing.image import load_img\n",
        "from keras.preprocessing.image import img_to_array"
      ],
      "execution_count": null,
      "outputs": []
    },
    {
      "cell_type": "markdown",
      "metadata": {
        "id": "is4tNz1sEPBl",
        "colab_type": "text"
      },
      "source": [
        "We create a myMaskRCNNConfig class for training on the buttons dataset. It is derived from the base Mask R-CNN Config class and overrides some values."
      ]
    },
    {
      "cell_type": "code",
      "metadata": {
        "id": "MC3NAA9RdbBW",
        "colab_type": "code",
        "colab": {}
      },
      "source": [
        "class myMaskRCNNConfig(Config):\n",
        "    # give the configuration a recognizable name\n",
        "    NAME = \"MaskRCNN_config\"\n",
        " \n",
        "    # set the number of GPUs to use along with the number of images\n",
        "    # per GPU\n",
        "    GPU_COUNT = 1\n",
        "    IMAGES_PER_GPU = 1\n",
        " \n",
        "    # number of classes (we would normally add +1 for the background)\n",
        "     # kangaroo + BG\n",
        "    NUM_CLASSES = 1+2\n",
        "   \n",
        "    # Number of training steps per epoch\n",
        "    STEPS_PER_EPOCH = 131\n",
        "    \n",
        "    # Learning rate\n",
        "    LEARNING_RATE=0.003\n",
        "    \n",
        "    # Skip detections with < 90% confidence\n",
        "    DETECTION_MIN_CONFIDENCE = 0.9\n",
        "    \n",
        "    # setting Max ground truth instances\n",
        "    MAX_GT_INSTANCES=10"
      ],
      "execution_count": null,
      "outputs": []
    },
    {
      "cell_type": "markdown",
      "metadata": {
        "id": "bqp4DGIREWPW",
        "colab_type": "text"
      },
      "source": [
        "Create an instance of the myMaskRCNNConfig class"
      ]
    },
    {
      "cell_type": "code",
      "metadata": {
        "id": "Fx8rw0K300f3",
        "colab_type": "code",
        "colab": {}
      },
      "source": [
        "config = myMaskRCNNConfig()\n",
        "config.display()"
      ],
      "execution_count": null,
      "outputs": []
    },
    {
      "cell_type": "markdown",
      "metadata": {
        "id": "5sciwZLc8XWn",
        "colab_type": "text"
      },
      "source": [
        "Detecting objects in the image with masks and bounding box from the trained model and displaying the results\n",
        "\n"
      ]
    },
    {
      "cell_type": "code",
      "metadata": {
        "id": "ck5YkA7Vazgc",
        "colab_type": "code",
        "colab": {}
      },
      "source": [
        "class_names=['BG','button', 'button_off']\n",
        "model = modellib.MaskRCNN(mode=\"inference\", config=config, model_dir='./')\n",
        "model_path = '..//..//..//drive//My Drive//models//mask-rcnn//maskrcnn_Buttons_TF2.2Epoch25Lr0.03.h5'\n",
        "# loading the trained weights o the custom dataset\n",
        "model.load_weights(model_path, by_name=True)\n",
        "img = load_img(\"..//..//..//drive//My Drive//Buttons//sample-images/EnableDolby__HP__2YConfDAHT__1024x768.png\")\n",
        "img = img_to_array(img)\n",
        "\n",
        "results= model.detect([img],verbose=1)\n",
        "# Display results\n",
        "\n",
        "r = results[0]\n",
        "visualize.display_instances(img, r['rois'], r['masks'], r['class_ids'], \n",
        "                            class_names, r['scores'], \n",
        "                            title=\"Predictions\")\n"
      ],
      "execution_count": null,
      "outputs": []
    }
  ]
}