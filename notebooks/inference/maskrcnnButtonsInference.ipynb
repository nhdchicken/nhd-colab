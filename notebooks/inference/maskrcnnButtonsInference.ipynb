{
  "nbformat": 4,
  "nbformat_minor": 0,
  "metadata": {
    "colab": {
      "name": "maskrcnnButtonsInference.ipynb",
      "provenance": [],
      "collapsed_sections": [],
      "mount_file_id": "1E-LeUW-CZZsk-1RtS5gMpPk1mRcguRZ1",
      "authorship_tag": "ABX9TyNrOP/WPzdbEy9iV8eihXNZ",
      "include_colab_link": true
    },
    "kernelspec": {
      "name": "python3",
      "display_name": "Python 3"
    },
    "accelerator": "GPU"
  },
  "cells": [
    {
      "cell_type": "markdown",
      "metadata": {
        "id": "view-in-github",
        "colab_type": "text"
      },
      "source": [
        "<a href=\"https://colab.research.google.com/github/nhdchicken/nhd-colab/blob/master/notebooks/inference/maskrcnnButtonsInference.ipynb\" target=\"_parent\"><img src=\"https://colab.research.google.com/assets/colab-badge.svg\" alt=\"Open In Colab\"/></a>"
      ]
    },
    {
      "cell_type": "markdown",
      "metadata": {
        "id": "Dt-XN8A6CGO_",
        "colab_type": "text"
      },
      "source": [
        "**Mask R-CNN Demo on Buttons dataset**\n",
        "\n",
        "\n",
        "> A quick intro to using the pre-trained model to detect the UI buttons. This experiment is performed on colab so mount the nhdchicken drive. \n",
        "\n",
        "\n",
        "\n"
      ]
    },
    {
      "cell_type": "markdown",
      "metadata": {
        "id": "35extfIBDnpB",
        "colab_type": "text"
      },
      "source": [
        "Install Tensorflow = 1.15 and keras==2.24 "
      ]
    },
    {
      "cell_type": "code",
      "metadata": {
        "id": "DVtYel4ZaVEc",
        "colab_type": "code",
        "colab": {}
      },
      "source": [
        "%tensorflow_version 1.x\n",
        "!pip install q keras==2.2.4"
      ],
      "execution_count": null,
      "outputs": []
    },
    {
      "cell_type": "markdown",
      "metadata": {
        "id": "RRUVlWbKD0qy",
        "colab_type": "text"
      },
      "source": [
        "Move to Mask_RCNN directory on the drive"
      ]
    },
    {
      "cell_type": "code",
      "metadata": {
        "id": "O0l0nuIbanVg",
        "colab_type": "code",
        "colab": {}
      },
      "source": [
        "cd drive/My\\ Drive/Mask_RCNN/"
      ],
      "execution_count": null,
      "outputs": []
    },
    {
      "cell_type": "markdown",
      "metadata": {
        "id": "yGscYuX_EEZP",
        "colab_type": "text"
      },
      "source": [
        "Import the required libraries"
      ]
    },
    {
      "cell_type": "code",
      "metadata": {
        "id": "rm4FkJb0arHM",
        "colab_type": "code",
        "colab": {}
      },
      "source": [
        "from mrcnn.config import Config\n",
        "from mrcnn import model as modellib\n",
        "from mrcnn import visualize\n",
        "import mrcnn\n",
        "from mrcnn.utils import Dataset\n",
        "from mrcnn.model import MaskRCNN\n",
        "import numpy as np\n",
        "from numpy import zeros\n",
        "from numpy import asarray\n",
        "import imutils\n",
        "import random\n",
        "import cv2\n",
        "import os\n",
        "from keras.models import load_model\n",
        "%matplotlib inline\n",
        "from keras.preprocessing.image import load_img\n",
        "from keras.preprocessing.image import img_to_array"
      ],
      "execution_count": null,
      "outputs": []
    },
    {
      "cell_type": "markdown",
      "metadata": {
        "id": "is4tNz1sEPBl",
        "colab_type": "text"
      },
      "source": [
        "We create a myMaskRCNNConfig class for training on the buttons dataset. It is derived from the base Mask R-CNN Config class and overrides some values."
      ]
    },
    {
      "cell_type": "code",
      "metadata": {
        "id": "MC3NAA9RdbBW",
        "colab_type": "code",
        "colab": {}
      },
      "source": [
        "class myMaskRCNNConfig(Config):\n",
        "    # give the configuration a recognizable name\n",
        "    NAME = \"MaskRCNN_config\"\n",
        " \n",
        "    # set the number of GPUs to use along with the number of images\n",
        "    # per GPU\n",
        "    GPU_COUNT = 1\n",
        "    IMAGES_PER_GPU = 1\n",
        " \n",
        "    # number of classes (we would normally add +1 for the background)\n",
        "     # kangaroo + BG\n",
        "    NUM_CLASSES = 1+2\n",
        "   \n",
        "    # Number of training steps per epoch\n",
        "    STEPS_PER_EPOCH = 131\n",
        "    \n",
        "    # Learning rate\n",
        "    LEARNING_RATE=0.003\n",
        "    \n",
        "    # Skip detections with < 90% confidence\n",
        "    DETECTION_MIN_CONFIDENCE = 0.9\n",
        "    \n",
        "    # setting Max ground truth instances\n",
        "    MAX_GT_INSTANCES=10"
      ],
      "execution_count": null,
      "outputs": []
    },
    {
      "cell_type": "markdown",
      "metadata": {
        "id": "bqp4DGIREWPW",
        "colab_type": "text"
      },
      "source": [
        "Create an instance of the myMaskRCNNConfig class"
      ]
    },
    {
      "cell_type": "code",
      "metadata": {
        "id": "Fx8rw0K300f3",
        "colab_type": "code",
        "colab": {}
      },
      "source": [
        "config = myMaskRCNNConfig()\n",
        "config.display()"
      ],
      "execution_count": null,
      "outputs": []
    },
    {
      "cell_type": "markdown",
      "metadata": {
        "id": "5sciwZLc8XWn",
        "colab_type": "text"
      },
      "source": [
        "Detecting objects in the image with masks and bounding box from the trained model and displaying the results\n",
        "\n"
      ]
    },
    {
      "cell_type": "code",
      "metadata": {
        "id": "ck5YkA7Vazgc",
        "colab_type": "code",
        "colab": {}
      },
      "source": [
        "class_names=['BG','button', 'button_off']\n",
        "model = modellib.MaskRCNN(mode=\"inference\", config=config, model_dir='./')\n",
        "model_path = '..//Buttons//Weights//maskrcnn_ButtonsEpoch18Lr0.03.h5'\n",
        "# loading the trained weights o the custom dataset\n",
        "model.load_weights(model_path, by_name=True)\n",
        "img = load_img(\"..//Buttons//sample-images//EnableDolby__HP__2YConfDAHT__1024x768.png\")\n",
        "img = img_to_array(img)\n",
        "\n",
        "results= model.detect([img],verbose=1)\n",
        "# Display results\n",
        "\n",
        "r = results[0]\n",
        "visualize.display_instances(img, r['rois'], r['masks'], r['class_ids'], \n",
        "                            class_names, r['scores'], \n",
        "                            title=\"Predictions\")\n"
      ],
      "execution_count": null,
      "outputs": []
    }
  ]
}
