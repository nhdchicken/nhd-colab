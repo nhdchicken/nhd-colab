{
 "cells": [
  {
   "cell_type": "markdown",
   "metadata": {},
   "source": [
    "# Yolov4 Inference\n",
    "\n"
   ]
  },
  {
   "cell_type": "markdown",
   "metadata": {},
   "source": [
    "# Cloning the NHD Colab Repos\n",
    "\n",
    "The following cell determines whether you are running in colab and if the git repos should be cloned. \n",
    "Just copy and past this cell as is\n"
   ]
  },
  {
   "cell_type": "code",
   "execution_count": 1,
   "metadata": {},
   "outputs": [
    {
     "name": "stdout",
     "output_type": "stream",
     "text": [
      "Not running in Colab - going to root of repos\n",
      "/Users/lpbrac/gitlab/pyops/nhd/nhd-colab\n",
      "Great Success!\n"
     ]
    }
   ],
   "source": [
    "%%bash\n",
    "if [  -d \"/content/nhd-colab\" ]\n",
    "then\n",
    "   echo \"Environment already initialized\"\n",
    "elif [ -d \"/content\" ] && [ ! -d \"/content/nhd-colab\" ]\n",
    "then\n",
    "    cd /content || exit 1;\n",
    "    echo \"Installing https://github.com/nhdchicken/nhd-colab.git\"\n",
    "    git clone --recurse-submodules https://github.com/nhdchicken/nhd-colab.git || exit 1;\n",
    "    cd nhd-colab || exit 1;\n",
    "else\n",
    "    echo \"Not running in Colab - going to root of repos\"\n",
    "    cd `git rev-parse --show-toplevel` || exit 1;\n",
    "fi\n",
    "pwd\n",
    "pip install -e utils/nhdcolab > /dev/null 2>&1 || exit 1;\n",
    "nhdcolab > /dev/null 2>&1 || exit 1;\n",
    "echo \"Great Success!\""
   ]
  },
  {
   "cell_type": "markdown",
   "metadata": {},
   "source": [
    "# Component Installation\n",
    "\n",
    "The next cell initializes the components by running the commands specified in the [install.yaml](../install.yaml)\n",
    "as well as the patches required. I not patch group is specified, all patch groups are installed. To disable patching\n",
    "use --no-patch\n"
   ]
  },
  {
   "cell_type": "code",
   "execution_count": 2,
   "metadata": {},
   "outputs": [
    {
     "name": "stdout",
     "output_type": "stream",
     "text": [
      "\u001B[32mNHD_COLAB_REPOS_ROOT=/Users/lpbrac/gitlab/pyops/nhd/nhd-colab OK!\u001B[0m\r\n",
      "\u001B[33mGoogle Drive not mounted\u001B[0m\r\n",
      "\u001B[33mgoing to repos root dir /Users/lpbrac/gitlab/pyops/nhd/nhd-colab\u001B[0m\r\n",
      "loading install config /Users/lpbrac/gitlab/pyops/nhd/nhd-colab/install.yml\u001B[0m\r\n",
      "\u001B[36minstalling components\u001B[0m\r\n",
      "\u001B[32myolov4-tf already installed - skipping\u001B[0m\r\n"
     ]
    }
   ],
   "source": [
    "!nhdcolab init yolov4-tf"
   ]
  },
  {
   "cell_type": "markdown",
   "metadata": {},
   "source": [
    "# Loading the Environment\n",
    "\n",
    "This piece of code loads the NHD environment into your notebook. From that object, you can access various environment variables. \n",
    "\n",
    "If running in Colab, and if _gdrive_mount_ is True, the google drive will be mounted. On your workstation, \n",
    "it will look at _NHD_ENV.NHD_COLAB_REPOS_ROOT / 'drive' / 'nhddrive'_. \n",
    "\n",
    "You can however override this by setting the _NHD_COLAB_DRIVE_ environment variable to the data location. \n",
    "\n",
    "For instance, say your Box storage is under ~/Box/NHD/nhddrive, you can set _NHD_COLAB_DRIVE_ to that location.\n"
   ]
  },
  {
   "cell_type": "code",
   "execution_count": 3,
   "metadata": {},
   "outputs": [
    {
     "name": "stdout",
     "output_type": "stream",
     "text": [
      "\u001B[32mNHD_COLAB_REPOS_ROOT=/Users/lpbrac/gitlab/pyops/nhd/nhd-colab OK!\u001B[0m\n",
      "Google drive not mounted since not running in Colab - using /Users/lpbrac/gitlab/pyops/nhd/nhd-colab/drive/nhddrive\n"
     ]
    }
   ],
   "source": [
    "from nhdcolab.environment import NHDEnvironment\n",
    "NHD_ENV = NHDEnvironment(gdrive_mount=True)\n"
   ]
  },
  {
   "cell_type": "markdown",
   "metadata": {},
   "source": [
    "# YoloDetector"
   ]
  },
  {
   "cell_type": "code",
   "execution_count": 5,
   "metadata": {},
   "outputs": [],
   "source": [
    "import os\n",
    "import sys\n",
    "import click\n",
    "import tensorflow as tf\n",
    "ROOT_DIR = os.path.join(NHD_ENV.NHD_COLAB_REPOS_ROOT, \"yolov4\", \"tensorf\")\n",
    "sys.path.append(ROOT_DIR)  # To find local version of the library\n",
    "from core.config import cfg\n",
    "import core.utils as utils\n",
    "from core.yolov4 import YOLOv4, YOLOv3, YOLOv3_tiny, decode\n",
    "import numpy as np\n",
    "\n",
    "\n",
    "class YoloV4Detector:\n",
    "\n",
    "    def __init__(self, tiny=False, version=4, quant='fp16', use_tflite=False, input_size=608, weights='yolov4.weights'):\n",
    "        click.secho(f\"version={version} tiny={tiny} quant={quant}\", fg='cyan')\n",
    "        assert weights, \"Weights filename required\"\n",
    "        self.weights = NHD_ENV.NHD_COLAB_MODEL_ROOT / 'yolov4' / weights\n",
    "\n",
    "        assert self.weights.is_file(), f\"weights {self.weights} not found\"\n",
    "\n",
    "        self.strides = None\n",
    "        self.anchors = None\n",
    "        self.tiny = tiny\n",
    "        self.yolo_version = version\n",
    "        if tiny:\n",
    "            self.strides = np.array(cfg.YOLO.STRIDES_TINY)\n",
    "            self.anchors = utils.get_anchors(cfg.YOLO.ANCHORS_TINY, tiny)\n",
    "        else:\n",
    "            self.strides = np.array(cfg.YOLO.STRIDES)\n",
    "            if version == 4:\n",
    "                self.anchors = utils.get_anchors(cfg.YOLO.ANCHORS, tiny)\n",
    "            else:\n",
    "                self.anchors = utils.get_anchors(cfg.YOLO.ANCHORS_V3, tiny)\n",
    "\n",
    "        self.num_classes = len(utils.read_class_names(cfg.YOLO.CLASSES))\n",
    "        self.xyscale = cfg.YOLO.XYSCALE\n",
    "        self.use_tflite = use_tflite\n",
    "        self.input_size = input_size\n",
    "        self._model = None\n",
    "        self._input_layer = None\n",
    "\n",
    "    @property\n",
    "    def input_layer(self):\n",
    "        if self._input_layer is None:\n",
    "            click.secho(f\"creating input layer {self.input_size} {self.input_size} {3}\", fg='green')\n",
    "            self._input_layer = tf.keras.layers.Input([self.input_size, self.input_size, 3])\n",
    "        return self._input_layer\n",
    "\n",
    "    @property\n",
    "    def model(self):\n",
    "        if self._model is None:\n",
    "            if self.tiny:\n",
    "                raise NotImplementedError(\"Not yet there\")\n",
    "            else:\n",
    "                if self.yolo_version == 3:\n",
    "                    raise NotImplementedError(\"YoloV3 not there yet\")\n",
    "                elif self.yolo_version == 4:\n",
    "                    feature_maps = YOLOv4(self.input_layer, self.num_classes)\n",
    "                    bbox_tensors = []\n",
    "                    for i, fm in enumerate(feature_maps):\n",
    "                        bbox_tensor = decode(fm, self.num_classes, i)\n",
    "                        bbox_tensors.append(bbox_tensor)\n",
    "                    self._model = tf.keras.Model(self.input_layer, bbox_tensors)\n",
    "                    if self.weights.suffix == '.weights':\n",
    "                        utils.load_weights(self._model, str(self.weights))\n",
    "                    else:\n",
    "                        self._model.load_weights(str(self.weights)).expect_partial()\n",
    "                else:\n",
    "                    raise ValueError(f\"Invalid yolo version {self.yolo_version}\")\n",
    "            self._model.summary()\n",
    "        return self._model\n",
    "\n",
    "    def search(self, frame):\n",
    "        image_data = utils.image_preprocess(np.copy(frame.original), [self.input_size, self.input_size])\n",
    "        image_data = image_data[np.newaxis, ...].astype(np.float32)\n",
    "        frame.model_input_size = self.input_size\n",
    "        pred_bbox = self.model.predict(image_data)\n",
    "        if self.yolo_version == 4:\n",
    "            pred_bbox = utils.postprocess_bbbox(pred_bbox, self.anchors, self.strides, self.xyscale)\n",
    "        else:\n",
    "            pred_bbox = utils.postprocess_bbbox(pred_bbox, self.anchors, self.strides)\n",
    "        bboxes = utils.postprocess_boxes(pred_bbox, frame.original_size, self.input_size, 0.25)\n",
    "        frame.bboxes = utils.nms(bboxes, 0.213, method='nms')\n",
    "        utils.draw_bbox(frame.original, frame.bboxes)\n",
    "        return frame"
   ]
  },
  {
   "cell_type": "code",
   "execution_count": null,
   "metadata": {},
   "outputs": [],
   "source": []
  }
 ],
 "metadata": {
  "kernelspec": {
   "display_name": "Python 3",
   "language": "python",
   "name": "python3"
  },
  "language_info": {
   "codemirror_mode": {
    "name": "ipython",
    "version": 3
   },
   "file_extension": ".py",
   "mimetype": "text/x-python",
   "name": "python",
   "nbconvert_exporter": "python",
   "pygments_lexer": "ipython3",
   "version": "3.6.9"
  }
 },
 "nbformat": 4,
 "nbformat_minor": 2
}