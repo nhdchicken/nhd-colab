{
 "cells": [
  {
   "cell_type": "markdown",
   "metadata": {},
   "source": [
    "# Yolo V4 Discovery\n",
    "This notebook is to play with the sample code on Colab"
   ]
  },
  {
   "cell_type": "code",
   "execution_count": 20,
   "metadata": {},
   "outputs": [
    {
     "name": "stdout",
     "output_type": "stream",
     "text": [
      "Not running in Colab - going to root of repos\n",
      "Installing colab installer (which will run in the next cell)\n",
      "Checkin that Colab is available\n",
      "Great Success!\n"
     ]
    }
   ],
   "source": [
    "%%bash\n",
    "# This is some boiler plate code that clones the repository on Colab\n",
    "if [  -d \"/content/nhd-colab\" ]\n",
    "then\n",
    "   echo \"Environment already initialized\"\n",
    "elif [ -d \"/content\" ] && [ ! -d \"/content/nhd-colab\" ]\n",
    "then\n",
    "    cd /content || exit 1;\n",
    "    echo \"Installing https://github.com/nhdchicken/nhd-colab.git\"\n",
    "    git clone --recurse-submodules https://github.com/nhdchicken/nhd-colab.git || exit 1;\n",
    "    cd nhd-colab || exit 1;\n",
    "else\n",
    "    echo \"Not running in Colab - going to root of repos\"\n",
    "    cd `git rev-parse --show-toplevel` || exit 1;\n",
    "fi\n",
    "echo \"Installing colab installer (which will run in the next cell)\"\n",
    "pip install utils/colab_install/ > /dev/null 2>&1 || exit 1;\n",
    "echo \"Checkin that Colab is available\"\n",
    "colab > /dev/null 2>&1 || exit 1;\n",
    "echo \"Great Success!\""
   ]
  },
  {
   "cell_type": "code",
   "execution_count": 22,
   "metadata": {},
   "outputs": [
    {
     "name": "stdout",
     "output_type": "stream",
     "text": [
      "running TensorFlow Version 2.1.0\u001b[0m\n",
      "\u001b[33mgoing to repos root dir /Users/lpbrac/gitlab/pyops/nhd/nhd-colab\u001b[0m\n",
      "loading install config /Users/lpbrac/gitlab/pyops/nhd/nhd-colab/install.yml\u001b[0m\n",
      "\u001b[36minstalling components\u001b[0m\n",
      "\u001b[32myolov4-tf already installed - skipping\u001b[0m\n"
     ]
    }
   ],
   "source": [
    "# This line instal the yolov4-tf components \n",
    "! colab init yolov4-tf\n"
   ]
  },
  {
   "cell_type": "code",
   "execution_count": 27,
   "metadata": {},
   "outputs": [
    {
     "name": "stdout",
     "output_type": "stream",
     "text": [
      "NHD_COLAB_REPOS_ROOT=/Users/lpbrac/gitlab/pyops/nhd/nhd-colab\n",
      "OK!\n"
     ]
    }
   ],
   "source": [
    "# This cell goes to the repository root of nhd-colab and sets the NHD_COLAB_REPOS_ROOT variable.\n",
    "import os\n",
    "import pathlib\n",
    "import subprocess\n",
    "NHD_COLAB_REPOS_ROOT = pathlib.Path(subprocess.check_output('git rev-parse --show-toplevel', shell=True).decode('utf-8').strip())\n",
    "os.chdir(NHD_COLAB_REPOS_ROOT)\n",
    "assert os.getcwd() == str(NHD_COLAB_REPOS_ROOT.cwd())\n",
    "assert os.getcwd().endswith('/nhd-colab')\n",
    "print(f\"NHD_COLAB_REPOS_ROOT={NHD_COLAB_REPOS_ROOT}\\nOK!\")"
   ]
  },
  {
   "cell_type": "code",
   "execution_count": null,
   "metadata": {},
   "outputs": [],
   "source": []
  }
 ],
 "metadata": {
  "kernelspec": {
   "display_name": "Python 3",
   "language": "python",
   "name": "python3"
  },
  "language_info": {
   "codemirror_mode": {
    "name": "ipython",
    "version": 3
   },
   "file_extension": ".py",
   "mimetype": "text/x-python",
   "name": "python",
   "nbconvert_exporter": "python",
   "pygments_lexer": "ipython3",
   "version": "3.7.4"
  }
 },
 "nbformat": 4,
 "nbformat_minor": 4
}
