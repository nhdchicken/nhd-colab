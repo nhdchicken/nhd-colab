{
 "cells": [
  {
   "cell_type": "markdown",
   "metadata": {},
   "source": [
    "# Yolo V4 Discovery\n",
    "This notebook is to play with the sample code on Colab\n",
    "\n",
    "Right now this:\n",
    "\n",
    "    * generates the weights on the nhd-chicken google drive under My Drive/yolov4\n",
    "\n",
    "## Warning\n",
    "\n",
    "This notebook relies on weights that are stored on nhdchicken's google drive and therefore requires its credential to mount it."
   ]
  },
  {
   "cell_type": "code",
   "execution_count": 20,
   "metadata": {},
   "outputs": [
    {
     "name": "stdout",
     "output_type": "stream",
     "text": [
      "Not running in Colab - going to root of repos\n",
      "Installing colab installer (which will run in the next cell)\n",
      "Checkin that Colab is available\n",
      "Great Success!\n"
     ]
    }
   ],
   "source": [
    "%%bash\n",
    "# This is some boiler plate code that clones the repository on Colab\n",
    "if [  -d \"/content/nhd-colab\" ]\n",
    "then\n",
    "   echo \"Environment already initialized\"\n",
    "elif [ -d \"/content\" ] && [ ! -d \"/content/nhd-colab\" ]\n",
    "then\n",
    "    cd /content || exit 1;\n",
    "    echo \"Installing https://github.com/nhdchicken/nhd-colab.git\"\n",
    "    git clone --recurse-submodules https://github.com/nhdchicken/nhd-colab.git || exit 1;\n",
    "    cd nhd-colab || exit 1;\n",
    "else\n",
    "    echo \"Not running in Colab - going to root of repos\"\n",
    "    cd `git rev-parse --show-toplevel` || exit 1;\n",
    "fi\n",
    "echo \"Installing colab installer (which will run in the next cell)\"\n",
    "pip install utils/colab_install/ > /dev/null 2>&1 || exit 1;\n",
    "echo \"Checkin that Colab is available\"\n",
    "colab > /dev/null 2>&1 || exit 1;\n",
    "echo \"Great Success!\""
   ]
  },
  {
   "cell_type": "code",
   "execution_count": 22,
   "metadata": {},
   "outputs": [
    {
     "name": "stdout",
     "output_type": "stream",
     "text": [
      "running TensorFlow Version 2.1.0\u001b[0m\n",
      "\u001b[33mgoing to repos root dir /Users/lpbrac/gitlab/pyops/nhd/nhd-colab\u001b[0m\n",
      "loading install config /Users/lpbrac/gitlab/pyops/nhd/nhd-colab/install.yml\u001b[0m\n",
      "\u001b[36minstalling components\u001b[0m\n",
      "\u001b[32myolov4-tf already installed - skipping\u001b[0m\n"
     ]
    }
   ],
   "source": [
    "# This line instal the yolov4-tf components \n",
    "! colab init yolov4-tf\n"
   ]
  },
  {
   "cell_type": "code",
   "execution_count": 30,
   "metadata": {},
   "outputs": [
    {
     "name": "stdout",
     "output_type": "stream",
     "text": [
      "Finding root of git repository\n",
      "NHD_COLAB_REPOS_ROOT=/Users/lpbrac/gitlab/pyops/nhd/nhd-colab\n",
      "OK!\n"
     ]
    }
   ],
   "source": [
    "# This cell goes to the repository root of nhd-colab and sets the NHD_COLAB_REPOS_ROOT variable.\n",
    "import os\n",
    "import pathlib\n",
    "import subprocess\n",
    "if os.getcwd() == '/content':\n",
    "  print(\"Running in Colab\")\n",
    "  NHD_COLAB_REPOS_ROOT = pathlib.Path(os.getcwd()) / 'nhd-colab'\n",
    "else:\n",
    "  print(\"Finding root of git repository\")\n",
    "  NHD_COLAB_REPOS_ROOT = pathlib.Path(subprocess.check_output('git rev-parse --show-toplevel', shell=True).decode('utf-8').strip())\n",
    "os.chdir(NHD_COLAB_REPOS_ROOT)\n",
    "assert os.getcwd() == str(NHD_COLAB_REPOS_ROOT.cwd())\n",
    "assert os.getcwd().endswith('/nhd-colab')\n",
    "print(f\"NHD_COLAB_REPOS_ROOT={NHD_COLAB_REPOS_ROOT}\\nOK!\")"
   ]
  },
  {
   "cell_type": "markdown",
   "metadata": {},
   "source": [
    "This cell:\n",
    "    connects to the google drive\n",
    "    converts weights to TF Lite with different quantization\n",
    "    \n",
    "    It set the following global variables:\n",
    "    \n",
    "    * YOLOV4_SUB_MOD_ROOT: The root of the YOLOV4 sub module\n",
    "    * YOLOV4_WEIGHTS_DIR: Root directory where all weight are to be stored\n",
    "    * YOLOV4_COCO_TFLITE_WEIGHTS: TF Lite weight\n",
    "    * YOLOV4_COCO_TFLITE_FP16_WEIGHTS: 16 bits quantization\n",
    "    * YOLOV4_COCO_TFLITE_UINT8_WEIGHTS: Unsigned 8 bit fixed point (UINT9)\n",
    "    \n",
    "Note that YOLOV4_COCO_TFLITE_UINT8_WEIGHTS fails in Tensor Flow right now\n",
    "    \n",
    "**ATTENTION**\n",
    "Follow the instructions to connect the nhd-chicken google drive"
   ]
  },
  {
   "cell_type": "code",
   "execution_count": 51,
   "metadata": {},
   "outputs": [
    {
     "name": "stdout",
     "output_type": "stream",
     "text": [
      "Google drive not mounted since not running in Colab\n",
      "YOLOV4_COCO_WEIGHTS='/Users/lpbrac/gitlab/pyops/nhd/nhd-colab/yolov4/tensorflow/data/yolov4.weights\n",
      "converting /Users/lpbrac/gitlab/pyops/nhd/nhd-colab/yolov4/tensorflow/data/yolov4.weights to  /Users/lpbrac/gitlab/pyops/nhd/nhd-colab/yolov4/tensorflow/data/yolov4-fp16.tflite \n",
      ">> running command python3 convert_tflite.py  --weights '/Users/lpbrac/gitlab/pyops/nhd/nhd-colab/yolov4/tensorflow/data/yolov4.weights' --output '/Users/lpbrac/gitlab/pyops/nhd/nhd-colab/yolov4/tensorflow/data/yolov4-fp16.tflite' --quantize_mode float16 --dataset /Users/lpbrac/gitlab/pyops/nhd/nhd-colab/yolov4/tensorflow/coco_dataset/coco/val207.txt\n",
      "OK!\n",
      "converting /Users/lpbrac/gitlab/pyops/nhd/nhd-colab/yolov4/tensorflow/data/yolov4.weights to  /Users/lpbrac/gitlab/pyops/nhd/nhd-colab/yolov4/tensorflow/data/yolov4-int8.tflite \n",
      ">> running command python3 convert_tflite.py  --weights '/Users/lpbrac/gitlab/pyops/nhd/nhd-colab/yolov4/tensorflow/data/yolov4.weights' --output '/Users/lpbrac/gitlab/pyops/nhd/nhd-colab/yolov4/tensorflow/data/yolov4-int8.tflite' --quantize_mode full_int8 --dataset /Users/lpbrac/gitlab/pyops/nhd/nhd-colab/yolov4/tensorflow/coco_dataset/coco/val207.txt\n"
     ]
    },
    {
     "ename": "OSError",
     "evalue": "command python3 convert_tflite.py  --weights '/Users/lpbrac/gitlab/pyops/nhd/nhd-colab/yolov4/tensorflow/data/yolov4.weights' --output '/Users/lpbrac/gitlab/pyops/nhd/nhd-colab/yolov4/tensorflow/data/yolov4-int8.tflite' --quantize_mode full_int8 --dataset /Users/lpbrac/gitlab/pyops/nhd/nhd-colab/yolov4/tensorflow/coco_dataset/coco/val207.txt failed\b 2020-06-17 19:22:26.752787: I tensorflow/core/platform/cpu_feature_guard.cc:143] Your CPU supports instructions that this TensorFlow binary was not compiled to use: AVX2 FMA\n2020-06-17 19:22:26.771281: I tensorflow/compiler/xla/service/service.cc:168] XLA service 0x7fd218084540 initialized for platform Host (this does not guarantee that XLA will be used). Devices:\n2020-06-17 19:22:26.771294: I tensorflow/compiler/xla/service/service.cc:176]   StreamExecutor device (0): Host, Default Version\n2020-06-17 19:22:33.818432: I tensorflow/core/grappler/devices.cc:60] Number of eligible GPUs (core count >= 8, compute capability >= 0.0): 0 (Note: TensorFlow was not compiled with CUDA support)\n2020-06-17 19:22:33.818498: I tensorflow/core/grappler/clusters/single_machine.cc:356] Starting new session\n2020-06-17 19:22:33.854343: I tensorflow/core/grappler/optimizers/meta_optimizer.cc:797] Optimization results for grappler item: graph_to_optimize\n2020-06-17 19:22:33.854365: I tensorflow/core/grappler/optimizers/meta_optimizer.cc:799]   function_optimizer: function_optimizer did nothing. time = 0.002ms.\n2020-06-17 19:22:33.854369: I tensorflow/core/grappler/optimizers/meta_optimizer.cc:799]   function_optimizer: function_optimizer did nothing. time = 0ms.\n2020-06-17 19:22:42.446288: I tensorflow/core/grappler/devices.cc:60] Number of eligible GPUs (core count >= 8, compute capability >= 0.0): 0 (Note: TensorFlow was not compiled with CUDA support)\n2020-06-17 19:22:42.450075: I tensorflow/core/grappler/clusters/single_machine.cc:356] Starting new session\n2020-06-17 19:22:48.970341: I tensorflow/core/grappler/optimizers/meta_optimizer.cc:797] Optimization results for grappler item: graph_to_optimize\n2020-06-17 19:22:48.972510: I tensorflow/core/grappler/optimizers/meta_optimizer.cc:799]   constant_folding: Graph size after: 1356 nodes (-862), 1477 edges (-755), time = 2945.21606ms.\n2020-06-17 19:22:48.972516: I tensorflow/core/grappler/optimizers/meta_optimizer.cc:799]   constant_folding: Graph size after: 1356 nodes (0), 1477 edges (0), time = 464.737ms.\nW0617 19:22:51.165082 4628415936 lite.py:504] Please consider switching to use new converter by setting experimental_new_converter to true. Old converter (TOCO) is deprecated and flow will be switched on by default to use new converter soon.\nTraceback (most recent call last):\n  File \"convert_tflite.py\", line 111, in <module>\n    app.run(main)\n  File \"/usr/local/var/pyenv/versions/nhd-colab-3.6.9/lib/python3.7/site-packages/absl/app.py\", line 299, in run\n    _run_main(main, args)\n  File \"/usr/local/var/pyenv/versions/nhd-colab-3.6.9/lib/python3.7/site-packages/absl/app.py\", line 250, in _run_main\n    sys.exit(main(argv))\n  File \"convert_tflite.py\", line 106, in main\n    save_tflite()\n  File \"convert_tflite.py\", line 80, in save_tflite\n    tflite_model = converter.convert()\n  File \"/usr/local/var/pyenv/versions/nhd-colab-3.6.9/lib/python3.7/site-packages/tensorflow/lite/python/lite.py\", line 522, in convert\n    result, constants.FLOAT, constants.FLOAT)\n  File \"/usr/local/var/pyenv/versions/nhd-colab-3.6.9/lib/python3.7/site-packages/tensorflow/lite/python/lite.py\", line 267, in _calibrate_quantize_model\n    inference_output_type, allow_float, self._experimental_new_quantizer)\n  File \"/usr/local/var/pyenv/versions/nhd-colab-3.6.9/lib/python3.7/site-packages/tensorflow/lite/python/optimize/calibrator.py\", line 76, in calibrate_and_quantize\n    for calibration_sample in dataset_gen():\n  File \"convert_tflite.py\", line 20, in representative_data_gen\n    fimage = open(FLAGS.dataset).read().split()\nFileNotFoundError: [Errno 2] No such file or directory: '/Users/lpbrac/gitlab/pyops/nhd/nhd-colab/yolov4/tensorflow/coco_dataset/coco/val207.txt'\n",
     "output_type": "error",
     "traceback": [
      "\u001b[0;31m---------------------------------------------------------------------------\u001b[0m",
      "\u001b[0;31mOSError\u001b[0m                                   Traceback (most recent call last)",
      "\u001b[0;32m<ipython-input-51-cfc375a1634e>\u001b[0m in \u001b[0;36m<module>\u001b[0;34m\u001b[0m\n\u001b[1;32m     54\u001b[0m \u001b[0;34m\u001b[0m\u001b[0m\n\u001b[1;32m     55\u001b[0m     \u001b[0;32mif\u001b[0m \u001b[0;32mnot\u001b[0m \u001b[0mYOLOV4_COCO_TFLITE_UINT8_WEIGHTS\u001b[0m\u001b[0;34m.\u001b[0m\u001b[0mis_file\u001b[0m\u001b[0;34m(\u001b[0m\u001b[0;34m)\u001b[0m\u001b[0;34m:\u001b[0m\u001b[0;34m\u001b[0m\u001b[0;34m\u001b[0m\u001b[0m\n\u001b[0;32m---> 56\u001b[0;31m         \u001b[0mconvert\u001b[0m\u001b[0;34m(\u001b[0m\u001b[0moutput\u001b[0m\u001b[0;34m=\u001b[0m\u001b[0mYOLOV4_COCO_TFLITE_UINT8_WEIGHTS\u001b[0m\u001b[0;34m,\u001b[0m \u001b[0mquant_mode\u001b[0m\u001b[0;34m=\u001b[0m\u001b[0;34m'--quantize_mode full_int8'\u001b[0m\u001b[0;34m)\u001b[0m\u001b[0;34m\u001b[0m\u001b[0;34m\u001b[0m\u001b[0m\n\u001b[0m\u001b[1;32m     57\u001b[0m     \u001b[0;32massert\u001b[0m \u001b[0mYOLOV4_COCO_TFLITE_UINT8_WEIGHTS\u001b[0m\u001b[0;34m.\u001b[0m\u001b[0mis_file\u001b[0m\u001b[0;34m(\u001b[0m\u001b[0;34m)\u001b[0m\u001b[0;34m,\u001b[0m \u001b[0;34mf\"{output} not found\"\u001b[0m\u001b[0;34m\u001b[0m\u001b[0;34m\u001b[0m\u001b[0m\n\u001b[1;32m     58\u001b[0m \u001b[0;34m\u001b[0m\u001b[0m\n",
      "\u001b[0;32m<ipython-input-51-cfc375a1634e>\u001b[0m in \u001b[0;36mconvert\u001b[0;34m(output, quant_mode)\u001b[0m\n\u001b[1;32m     29\u001b[0m     \u001b[0mcmd\u001b[0m \u001b[0;34m=\u001b[0m \u001b[0;34mf\"python3 {YOLOV4_CONVERT_TFLITE_SCRIPT} --weights '{YOLOV4_COCO_WEIGHTS}' --output '{output}' {quant_mode} --dataset {COCO_DATA_SET_VAL}\"\u001b[0m\u001b[0;34m\u001b[0m\u001b[0;34m\u001b[0m\u001b[0m\n\u001b[1;32m     30\u001b[0m     \u001b[0mprint\u001b[0m\u001b[0;34m(\u001b[0m\u001b[0;34mf\"converting {YOLOV4_COCO_WEIGHTS} to  {output} \"\u001b[0m\u001b[0;34m)\u001b[0m\u001b[0;34m\u001b[0m\u001b[0;34m\u001b[0m\u001b[0m\n\u001b[0;32m---> 31\u001b[0;31m     \u001b[0mrun\u001b[0m\u001b[0;34m(\u001b[0m\u001b[0mcmd\u001b[0m\u001b[0;34m)\u001b[0m\u001b[0;34m\u001b[0m\u001b[0;34m\u001b[0m\u001b[0m\n\u001b[0m\u001b[1;32m     32\u001b[0m     \u001b[0;32massert\u001b[0m \u001b[0moutput\u001b[0m\u001b[0;34m.\u001b[0m\u001b[0mis_file\u001b[0m\u001b[0;34m(\u001b[0m\u001b[0;34m)\u001b[0m\u001b[0;34m,\u001b[0m \u001b[0;34mf\"{output} not found\"\u001b[0m\u001b[0;34m\u001b[0m\u001b[0;34m\u001b[0m\u001b[0m\n\u001b[1;32m     33\u001b[0m     \u001b[0mprint\u001b[0m\u001b[0;34m(\u001b[0m\u001b[0;34m\"OK!\"\u001b[0m\u001b[0;34m)\u001b[0m\u001b[0;34m\u001b[0m\u001b[0;34m\u001b[0m\u001b[0m\n",
      "\u001b[0;32m<ipython-input-51-cfc375a1634e>\u001b[0m in \u001b[0;36mrun\u001b[0;34m(cmd)\u001b[0m\n\u001b[1;32m     12\u001b[0m     \u001b[0mresult\u001b[0m \u001b[0;34m=\u001b[0m \u001b[0msubprocess\u001b[0m\u001b[0;34m.\u001b[0m\u001b[0mrun\u001b[0m\u001b[0;34m(\u001b[0m\u001b[0mcmd\u001b[0m\u001b[0;34m,\u001b[0m \u001b[0mstderr\u001b[0m\u001b[0;34m=\u001b[0m\u001b[0msubprocess\u001b[0m\u001b[0;34m.\u001b[0m\u001b[0mPIPE\u001b[0m\u001b[0;34m,\u001b[0m \u001b[0mshell\u001b[0m\u001b[0;34m=\u001b[0m\u001b[0;32mTrue\u001b[0m\u001b[0;34m)\u001b[0m\u001b[0;34m\u001b[0m\u001b[0;34m\u001b[0m\u001b[0m\n\u001b[1;32m     13\u001b[0m     \u001b[0;32mif\u001b[0m \u001b[0mresult\u001b[0m\u001b[0;34m.\u001b[0m\u001b[0mreturncode\u001b[0m\u001b[0;34m:\u001b[0m\u001b[0;34m\u001b[0m\u001b[0;34m\u001b[0m\u001b[0m\n\u001b[0;32m---> 14\u001b[0;31m         \u001b[0;32mraise\u001b[0m \u001b[0mOSError\u001b[0m\u001b[0;34m(\u001b[0m\u001b[0;34mf\"command {cmd} failed\\b {result.stderr.decode('utf-8')}\"\u001b[0m\u001b[0;34m)\u001b[0m\u001b[0;34m\u001b[0m\u001b[0;34m\u001b[0m\u001b[0m\n\u001b[0m\u001b[1;32m     15\u001b[0m \u001b[0;34m\u001b[0m\u001b[0m\n\u001b[1;32m     16\u001b[0m \u001b[0;32massert\u001b[0m \u001b[0mYOLOV4_SUB_MOD_ROOT\u001b[0m\u001b[0;34m.\u001b[0m\u001b[0mis_dir\u001b[0m\u001b[0;34m(\u001b[0m\u001b[0;34m)\u001b[0m\u001b[0;34m,\u001b[0m \u001b[0;34mf\"{YOLOV4_SUB_MOD_ROOT} not found\"\u001b[0m\u001b[0;34m\u001b[0m\u001b[0;34m\u001b[0m\u001b[0m\n",
      "\u001b[0;31mOSError\u001b[0m: command python3 convert_tflite.py  --weights '/Users/lpbrac/gitlab/pyops/nhd/nhd-colab/yolov4/tensorflow/data/yolov4.weights' --output '/Users/lpbrac/gitlab/pyops/nhd/nhd-colab/yolov4/tensorflow/data/yolov4-int8.tflite' --quantize_mode full_int8 --dataset /Users/lpbrac/gitlab/pyops/nhd/nhd-colab/yolov4/tensorflow/coco_dataset/coco/val207.txt failed\b 2020-06-17 19:22:26.752787: I tensorflow/core/platform/cpu_feature_guard.cc:143] Your CPU supports instructions that this TensorFlow binary was not compiled to use: AVX2 FMA\n2020-06-17 19:22:26.771281: I tensorflow/compiler/xla/service/service.cc:168] XLA service 0x7fd218084540 initialized for platform Host (this does not guarantee that XLA will be used). Devices:\n2020-06-17 19:22:26.771294: I tensorflow/compiler/xla/service/service.cc:176]   StreamExecutor device (0): Host, Default Version\n2020-06-17 19:22:33.818432: I tensorflow/core/grappler/devices.cc:60] Number of eligible GPUs (core count >= 8, compute capability >= 0.0): 0 (Note: TensorFlow was not compiled with CUDA support)\n2020-06-17 19:22:33.818498: I tensorflow/core/grappler/clusters/single_machine.cc:356] Starting new session\n2020-06-17 19:22:33.854343: I tensorflow/core/grappler/optimizers/meta_optimizer.cc:797] Optimization results for grappler item: graph_to_optimize\n2020-06-17 19:22:33.854365: I tensorflow/core/grappler/optimizers/meta_optimizer.cc:799]   function_optimizer: function_optimizer did nothing. time = 0.002ms.\n2020-06-17 19:22:33.854369: I tensorflow/core/grappler/optimizers/meta_optimizer.cc:799]   function_optimizer: function_optimizer did nothing. time = 0ms.\n2020-06-17 19:22:42.446288: I tensorflow/core/grappler/devices.cc:60] Number of eligible GPUs (core count >= 8, compute capability >= 0.0): 0 (Note: TensorFlow was not compiled with CUDA support)\n2020-06-17 19:22:42.450075: I tensorflow/core/grappler/clusters/single_machine.cc:356] Starting new session\n2020-06-17 19:22:48.970341: I tensorflow/core/grappler/optimizers/meta_optimizer.cc:797] Optimization results for grappler item: graph_to_optimize\n2020-06-17 19:22:48.972510: I tensorflow/core/grappler/optimizers/meta_optimizer.cc:799]   constant_folding: Graph size after: 1356 nodes (-862), 1477 edges (-755), time = 2945.21606ms.\n2020-06-17 19:22:48.972516: I tensorflow/core/grappler/optimizers/meta_optimizer.cc:799]   constant_folding: Graph size after: 1356 nodes (0), 1477 edges (0), time = 464.737ms.\nW0617 19:22:51.165082 4628415936 lite.py:504] Please consider switching to use new converter by setting experimental_new_converter to true. Old converter (TOCO) is deprecated and flow will be switched on by default to use new converter soon.\nTraceback (most recent call last):\n  File \"convert_tflite.py\", line 111, in <module>\n    app.run(main)\n  File \"/usr/local/var/pyenv/versions/nhd-colab-3.6.9/lib/python3.7/site-packages/absl/app.py\", line 299, in run\n    _run_main(main, args)\n  File \"/usr/local/var/pyenv/versions/nhd-colab-3.6.9/lib/python3.7/site-packages/absl/app.py\", line 250, in _run_main\n    sys.exit(main(argv))\n  File \"convert_tflite.py\", line 106, in main\n    save_tflite()\n  File \"convert_tflite.py\", line 80, in save_tflite\n    tflite_model = converter.convert()\n  File \"/usr/local/var/pyenv/versions/nhd-colab-3.6.9/lib/python3.7/site-packages/tensorflow/lite/python/lite.py\", line 522, in convert\n    result, constants.FLOAT, constants.FLOAT)\n  File \"/usr/local/var/pyenv/versions/nhd-colab-3.6.9/lib/python3.7/site-packages/tensorflow/lite/python/lite.py\", line 267, in _calibrate_quantize_model\n    inference_output_type, allow_float, self._experimental_new_quantizer)\n  File \"/usr/local/var/pyenv/versions/nhd-colab-3.6.9/lib/python3.7/site-packages/tensorflow/lite/python/optimize/calibrator.py\", line 76, in calibrate_and_quantize\n    for calibration_sample in dataset_gen():\n  File \"convert_tflite.py\", line 20, in representative_data_gen\n    fimage = open(FLAGS.dataset).read().split()\nFileNotFoundError: [Errno 2] No such file or directory: '/Users/lpbrac/gitlab/pyops/nhd/nhd-colab/yolov4/tensorflow/coco_dataset/coco/val207.txt'\n"
     ]
    }
   ],
   "source": [
    "\"\"\" When running on Colab, this cell attempt to mount the Google drive \n",
    "    to access the weights located at /content/drive/My Drive/yolov4\n",
    "\n",
    "    If not in Colab, those weight are expected to be found under \n",
    "    nhd-colab/yolov4/tensorflow/data\n",
    "\n",
    "    When not running in Colab, you can download the weight from \n",
    "    the Goodle Drive and store ir under the nhd-colab/yolov4/tensorflow/data\n",
    "    directory or set the content in any directory and set the \n",
    "    YOLOV4_WEIGHTS_DIR environment variable to that location.\n",
    "\"\"\"\n",
    "import os\n",
    "import warnings\n",
    "import pathlib\n",
    "import subprocess\n",
    "\n",
    "YOLOV4_SUB_MOD_ROOT = NHD_COLAB_REPOS_ROOT / 'yolov4' / 'tensorflow'\n",
    "YOLOV4_CONVERT_TFLITE_SCRIPT = 'convert_tflite.py '\n",
    "YOLOV4_WEIGHTS_DIR = pathlib.Path(\"/content/drive/My Drive/yolov4\")\n",
    "COCO_DATA_SET_VAL = YOLOV4_SUB_MOD_ROOT / 'data' / 'dataset' / 'val2017.txt'\n",
    " \n",
    "assert YOLOV4_SUB_MOD_ROOT.is_dir(), f\"{YOLOV4_SUB_MOD_ROOT} not found\"\n",
    "try:\n",
    "    from google.colab import drive\n",
    "    drive.mount('/content/drive/')\n",
    "except ModuleNotFoundError:\n",
    "    print(\"Google drive not mounted since not running in Colab\")\n",
    "    YOLOV4_WEIGHTS_DIR = pathlib.Path(os.environ.get('YOLOV4_WEIGHTS_DIR', YOLOV4_SUB_MOD_ROOT / 'data'))\n",
    "\n",
    "YOLOV4_COCO_TFLITE_WEIGHTS = YOLOV4_WEIGHTS_DIR / 'yolov4.tflite'\n",
    "YOLOV4_COCO_TFLITE_FP16_WEIGHTS = YOLOV4_WEIGHTS_DIR / 'yolov4-fp16.tflite'\n",
    "YOLOV4_COCO_TFLITE_UINT8_WEIGHTS = YOLOV4_WEIGHTS_DIR / 'yolov4-int8.tflite'\n",
    "\n",
    "def convert(output, quant_mode=\"\"):\n",
    "    cmd = f\"python3 {YOLOV4_CONVERT_TFLITE_SCRIPT} --weights '{YOLOV4_COCO_WEIGHTS}' --output '{output}' {quant_mode} --dataset {COCO_DATA_SET_VAL}\"\n",
    "    print(f\"converting {YOLOV4_COCO_WEIGHTS} to  {output} \")\n",
    "    print(f\">> running command {cmd}\")\n",
    "    result = subprocess.run(cmd, stderr=subprocess.PIPE, shell=True)\n",
    "    if result.returncode:\n",
    "        raise OSError(f\"command {cmd} failed\\b {result.stderr.decode('utf-8')}\")\n",
    "    assert output.is_file(), f\"{output} not found\"\n",
    "    print(\"OK!\")\n",
    "    \n",
    "    \n",
    "assert YOLOV4_WEIGHTS_DIR.is_dir(), f\"YOLOV4_WEIGHTS_DIR={YOLOV4_WEIGHTS_DIR} not found!\"\n",
    "YOLOV4_COCO_WEIGHTS = YOLOV4_WEIGHTS_DIR / 'yolov4.weights'\n",
    "assert YOLOV4_COCO_WEIGHTS.is_file(), f\"YOLOV4_COCO_WEIGHTS={YOLOV4_COCO_WEIGHTS} not found!\"\n",
    "print(f\"YOLOV4_COCO_WEIGHTS='{YOLOV4_COCO_WEIGHTS}\")\n",
    "\n",
    "# CONVERSION\n",
    "\n",
    "CURR_DIR = os.getcwd()\n",
    "os.chdir(YOLOV4_SUB_MOD_ROOT)\n",
    "try:\n",
    "    \n",
    "    if not YOLOV4_COCO_TFLITE_WEIGHTS.is_file():\n",
    "        convert(output=YOLOV4_COCO_TFLITE_WEIGHTS)\n",
    "    assert YOLOV4_COCO_TFLITE_WEIGHTS.is_file(), f\"{output} not found\"\n",
    "    \n",
    "    if not YOLOV4_COCO_TFLITE_FP16_WEIGHTS.is_file():\n",
    "        convert(output=YOLOV4_COCO_TFLITE_FP16_WEIGHTS, quant_mode='--quantize_mode float16')\n",
    "    assert YOLOV4_COCO_TFLITE_FP16_WEIGHTS.is_file(), f\"{output} not found\"\n",
    "        \n",
    "    if not YOLOV4_COCO_TFLITE_UINT8_WEIGHTS.is_file():\n",
    "        try:\n",
    "          convert(output=YOLOV4_COCO_TFLITE_UINT8_WEIGHTS, quant_mode='--quantize_mode full_int8')\n",
    "          assert YOLOV4_COCO_TFLITE_UINT8_WEIGHTS.is_file(), f\"{output} not found\"\n",
    "        except:\n",
    "          warnings.warn(\"conversion to UINT8 fails to be investigated\")\n",
    "    \n",
    "except:\n",
    "    raise\n",
    "finally:\n",
    "    os.chdir(CURR_DIR)"
   ]
  },
  {
   "cell_type": "code",
   "execution_count": null,
   "metadata": {},
   "outputs": [],
   "source": []
  }
 ],
 "metadata": {
  "kernelspec": {
   "display_name": "Python 3",
   "language": "python",
   "name": "python3"
  },
  "language_info": {
   "codemirror_mode": {
    "name": "ipython",
    "version": 3
   },
   "file_extension": ".py",
   "mimetype": "text/x-python",
   "name": "python",
   "nbconvert_exporter": "python",
   "pygments_lexer": "ipython3",
   "version": "3.7.4"
  }
 },
 "nbformat": 4,
 "nbformat_minor": 4
}
