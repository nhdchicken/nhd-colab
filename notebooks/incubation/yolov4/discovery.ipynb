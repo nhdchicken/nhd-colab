{
 "cells": [
  {
   "cell_type": "markdown",
   "metadata": {},
   "source": [
    "# Yolo V4 Discovery\n",
    "This notebook is to play with the sample code on Colab\n",
    "\n",
    "Right now this:\n",
    "\n",
    "    * generates the weights on the nhd-chicken google drive under My Drive/yolov4\n",
    "\n",
    "## Warning\n",
    "\n",
    "This notebook relies on weights that are stored on nhdchicken's google drive and therefore requires its credential to mount it."
   ]
  },
  {
   "cell_type": "code",
   "execution_count": 2,
   "metadata": {},
   "outputs": [
    {
     "name": "stdout",
     "output_type": "stream",
     "text": [
      "Not running in Colab - going to root of repos\n",
      "/Users/lpbrac/gitlab/pyops/nhd/nhd-colab\n",
      "Great Success!\n"
     ]
    }
   ],
   "source": [
    "%%bash\n",
    "if [  -d \"/content/nhd-colab\" ]\n",
    "then\n",
    "   echo \"Environment already initialized\"\n",
    "elif [ -d \"/content\" ] && [ ! -d \"/content/nhd-colab\" ]\n",
    "then\n",
    "    cd /content || exit 1;\n",
    "    echo \"Installing https://github.com/nhdchicken/nhd-colab.git\"\n",
    "    git clone --recurse-submodules https://github.com/nhdchicken/nhd-colab.git || exit 1;\n",
    "    cd nhd-colab || exit 1;\n",
    "else\n",
    "    echo \"Not running in Colab - going to root of repos\"\n",
    "    cd `git rev-parse --show-toplevel` || exit 1;\n",
    "fi\n",
    "pwd\n",
    "pip install utils/nhdcolab > /dev/null 2>&1 || exit 1;\n",
    "nhdcolab > /dev/null 2>&1 || exit 1;\n",
    "echo \"Great Success!\""
   ]
  },
  {
   "cell_type": "code",
   "execution_count": 3,
   "metadata": {},
   "outputs": [
    {
     "name": "stdout",
     "output_type": "stream",
     "text": [
      "\u001b[32mNHD_COLAB_REPOS_ROOT=/Users/lpbrac/gitlab/pyops/nhd/nhd-colab OK!\u001b[0m\n",
      "\u001b[33mGoogle Drive not mounted\u001b[0m\n",
      "\u001b[33mgoing to repos root dir /Users/lpbrac/gitlab/pyops/nhd/nhd-colab\u001b[0m\n",
      "loading install config /Users/lpbrac/gitlab/pyops/nhd/nhd-colab/install.yml\u001b[0m\n",
      "\u001b[36minstalling components\u001b[0m\n",
      "\u001b[36minstalling component yolov4-tf\u001b[0m\n",
      "\u001b[36m\u001b[1m[running]\u001b[0mpip3 install install -r yolov4/tensorflow/requirements.txt\u001b[0m\u001b[32m OK!\u001b[0m\n"
     ]
    }
   ],
   "source": [
    "# This line instal the yolov4-tf components \n",
    "! nhdcolab init yolov4-tf\n"
   ]
  },
  {
   "cell_type": "code",
   "execution_count": null,
   "metadata": {},
   "outputs": [],
   "source": [
    "from nhdcolab.environment import NHDEnvironment\n",
    "NHD_ENV = NHDEnvironment(gdrive_mount=True)"
   ]
  },
  {
   "cell_type": "markdown",
   "metadata": {},
   "source": [
    "This cell:\n",
    "    connects to the google drive\n",
    "    converts weights to TF Lite with different quantization\n",
    "    \n",
    "    It set the following global variables:\n",
    "    \n",
    "    * YOLOV4_SUB_MOD_ROOT: The root of the YOLOV4 sub module\n",
    "    * YOLOV4_WEIGHTS_DIR: Root directory where all weight are to be stored\n",
    "    * YOLOV4_COCO_TFLITE_WEIGHTS: TF Lite weight\n",
    "    * YOLOV4_COCO_TFLITE_FP16_WEIGHTS: 16 bits quantization\n",
    "    * YOLOV4_COCO_TFLITE_UINT8_WEIGHTS: Unsigned 8 bit fixed point (UINT9)\n",
    "    \n",
    "Note that YOLOV4_COCO_TFLITE_UINT8_WEIGHTS fails in Tensor Flow right now\n",
    "    \n",
    "**ATTENTION**\n",
    "Follow the instructions to connect the nhd-chicken google drive"
   ]
  },
  {
   "cell_type": "code",
   "execution_count": null,
   "metadata": {},
   "outputs": [],
   "source": [
    "\"\"\" When running on Colab, this cell attempt to mount the Google drive \n",
    "    to access the weights located at /content/drive/My Drive/yolov4\n",
    "\n",
    "    If not in Colab, those weight are expected to be found under \n",
    "    nhd-colab/yolov4/tensorflow/data\n",
    "\n",
    "    When not running in Colab, you can download the weight from \n",
    "    the Goodle Drive and store ir under the nhd-colab/yolov4/tensorflow/data\n",
    "    directory or set the content in any directory and set the \n",
    "    YOLOV4_WEIGHTS_DIR environment variable to that location.\n",
    "\"\"\"\n",
    "import os\n",
    "import warnings\n",
    "import pathlib\n",
    "import subprocess\n",
    "\n",
    "YOLOV4_SUB_MOD_ROOT = NHD_ENV.NHD_COLAB_REPOS_ROOT / 'yolov4' / 'tensorflow'\n",
    "YOLOV4_CONVERT_TFLITE_SCRIPT = 'convert_tflite.py '\n",
    "YOLOV4_WEIGHTS_DIR = NHD_ENV.NHD_COLAB_DRIVE / 'models'/ 'yolov4'\n",
    "COCO_DATA_SET_VAL = YOLOV4_SUB_MOD_ROOT / 'data' / 'dataset' / 'val2017.txt'\n",
    "\n",
    "YOLOV4_COCO_TFLITE_WEIGHTS = YOLOV4_WEIGHTS_DIR / 'yolov4.tflite'\n",
    "YOLOV4_COCO_TFLITE_FP16_WEIGHTS = YOLOV4_WEIGHTS_DIR / 'yolov4-fp16.tflite'\n",
    "YOLOV4_COCO_TFLITE_UINT8_WEIGHTS = YOLOV4_WEIGHTS_DIR / 'yolov4-int8.tflite'\n",
    "\n",
    "def convert(output, quant_mode=\"\"):\n",
    "    cmd = f\"python3 {YOLOV4_CONVERT_TFLITE_SCRIPT} --weights '{YOLOV4_COCO_WEIGHTS}' --output '{output}' {quant_mode} --dataset {COCO_DATA_SET_VAL}\"\n",
    "    print(f\"converting {YOLOV4_COCO_WEIGHTS} to  {output} \")\n",
    "    print(f\">> running command {cmd}\")\n",
    "    result = subprocess.run(cmd, stderr=subprocess.PIPE, shell=True)\n",
    "    if result.returncode:\n",
    "        raise OSError(f\"command {cmd} failed\\b {result.stderr.decode('utf-8')}\")\n",
    "    assert output.is_file(), f\"{output} not found\"\n",
    "    print(\"OK!\")\n",
    "    \n",
    "    \n",
    "assert YOLOV4_WEIGHTS_DIR.is_dir(), f\"YOLOV4_WEIGHTS_DIR={YOLOV4_WEIGHTS_DIR} not found!\"\n",
    "YOLOV4_COCO_WEIGHTS = YOLOV4_WEIGHTS_DIR / 'yolov4.weights'\n",
    "assert YOLOV4_COCO_WEIGHTS.is_file(), f\"YOLOV4_COCO_WEIGHTS={YOLOV4_COCO_WEIGHTS} not found!\"\n",
    "print(f\"YOLOV4_COCO_WEIGHTS='{YOLOV4_COCO_WEIGHTS}\")\n",
    "\n",
    "# CONVERSION\n",
    "\n",
    "CURR_DIR = os.getcwd()\n",
    "os.chdir(YOLOV4_SUB_MOD_ROOT)\n",
    "try:\n",
    "    \n",
    "    if not YOLOV4_COCO_TFLITE_WEIGHTS.is_file():\n",
    "        convert(output=YOLOV4_COCO_TFLITE_WEIGHTS)\n",
    "    assert YOLOV4_COCO_TFLITE_WEIGHTS.is_file(), f\"{output} not found\"\n",
    "    \n",
    "    if not YOLOV4_COCO_TFLITE_FP16_WEIGHTS.is_file():\n",
    "        convert(output=YOLOV4_COCO_TFLITE_FP16_WEIGHTS, quant_mode='--quantize_mode float16')\n",
    "    assert YOLOV4_COCO_TFLITE_FP16_WEIGHTS.is_file(), f\"{output} not found\"\n",
    "        \n",
    "    if not YOLOV4_COCO_TFLITE_UINT8_WEIGHTS.is_file():\n",
    "        try:\n",
    "          convert(output=YOLOV4_COCO_TFLITE_UINT8_WEIGHTS, quant_mode='--quantize_mode full_int8')\n",
    "          assert YOLOV4_COCO_TFLITE_UINT8_WEIGHTS.is_file(), f\"{output} not found\"\n",
    "        except:\n",
    "          warnings.warn(\"conversion to UINT8 fails to be investigated\")\n",
    "    \n",
    "except:\n",
    "    raise\n",
    "finally:\n",
    "    os.chdir(CURR_DIR)"
   ]
  },
  {
   "cell_type": "code",
   "execution_count": null,
   "metadata": {},
   "outputs": [],
   "source": [
    "print(\"The End\")"
   ]
  }
 ],
 "metadata": {
  "kernelspec": {
   "display_name": "Python 3",
   "language": "python",
   "name": "python3"
  },
  "language_info": {
   "codemirror_mode": {
    "name": "ipython",
    "version": 3
   },
   "file_extension": ".py",
   "mimetype": "text/x-python",
   "name": "python",
   "nbconvert_exporter": "python",
   "pygments_lexer": "ipython3",
   "version": "3.6.9"
  }
 },
 "nbformat": 4,
 "nbformat_minor": 4
}
