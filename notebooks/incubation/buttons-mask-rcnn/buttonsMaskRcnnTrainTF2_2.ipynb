{
  "nbformat": 4,
  "nbformat_minor": 0,
  "metadata": {
    "colab": {
      "name": "buttonsMaskRcnnTrainTF2.2.ipynb",
      "provenance": [],
      "collapsed_sections": [],
      "include_colab_link": true
    },
    "kernelspec": {
      "name": "python3",
      "display_name": "Python 3"
    },
    "accelerator": "GPU"
  },
  "cells": [
    {
      "cell_type": "markdown",
      "metadata": {
        "id": "view-in-github",
        "colab_type": "text"
      },
      "source": [
        "<a href=\"https://colab.research.google.com/github/nhdchicken/nhd-colab/blob/master/notebooks/incubation/buttons-mask-rcnn/buttonsMaskRcnnTrainTF2_2.ipynb\" target=\"_parent\"><img src=\"https://colab.research.google.com/assets/colab-badge.svg\" alt=\"Open In Colab\"/></a>"
      ]
    },
    {
      "cell_type": "markdown",
      "metadata": {
        "id": "Fy--PIOtUYvo",
        "colab_type": "text"
      },
      "source": [
        "Mask R-CNN Demo on Buttons dataset using TF 2.2.\n",
        "\n",
        "A quick intro to using the pre-trained model to detect the UI buttons."
      ]
    },
    {
      "cell_type": "markdown",
      "metadata": {
        "id": "prX3Vy9MtQoB",
        "colab_type": "text"
      },
      "source": [
        "This experiment is performed on colab so mount the nhdchicken drive"
      ]
    },
    {
      "cell_type": "code",
      "metadata": {
        "id": "aAmNM1A8S5jI",
        "colab_type": "code",
        "colab": {}
      },
      "source": [
        "%%bash\n",
        "if [  -d \"/content/nhd-colab\" ]\n",
        "then\n",
        "   echo \"Environment already initialized\"\n",
        "elif [ -d \"/content\" ] && [ ! -d \"/content/nhd-colab\" ]\n",
        "then\n",
        "    cd /content || exit 1;\n",
        "    echo \"Installing https://github.com/nhdchicken/nhd-colab.git\"\n",
        "    git clone --recurse-submodules https://github.com/nhdchicken/nhd-colab.git || exit 1;\n",
        "    cd nhd-colab || exit 1;\n",
        "else\n",
        "    echo \"Not running in Colab - going to root of repos\"\n",
        "    cd `git rev-parse --show-toplevel` || exit 1;\n",
        "fi\n",
        "pwd\n",
        "pip install utils/nhdcolab/ > /dev/null 2>&1 || exit 1;\n",
        "nhdcolab > /dev/null 2>&1 || exit 1;\n",
        "echo \"Great Success!\""
      ],
      "execution_count": null,
      "outputs": []
    },
    {
      "cell_type": "code",
      "metadata": {
        "id": "aKxHByKiS8Pd",
        "colab_type": "code",
        "colab": {}
      },
      "source": [
        "!nhdcolab init mp-mask-rcnn"
      ],
      "execution_count": null,
      "outputs": []
    },
    {
      "cell_type": "code",
      "metadata": {
        "id": "PLc-dcI3TBl2",
        "colab_type": "code",
        "colab": {}
      },
      "source": [
        "from nhdcolab.environment import NHDEnvironment\n",
        "NHD_ENV = NHDEnvironment(gdrive_mount=True)"
      ],
      "execution_count": null,
      "outputs": []
    },
    {
      "cell_type": "markdown",
      "metadata": {
        "id": "wRNhKyDUUnMg",
        "colab_type": "text"
      },
      "source": [
        "Move to Mask_RCNN directory on the drive"
      ]
    },
    {
      "cell_type": "code",
      "metadata": {
        "id": "CIUD1R_9TqOH",
        "colab_type": "code",
        "colab": {}
      },
      "source": [
        "cd mask-rcnn/matterport/"
      ],
      "execution_count": null,
      "outputs": []
    },
    {
      "cell_type": "markdown",
      "metadata": {
        "id": "_qH8KiUjUoxw",
        "colab_type": "text"
      },
      "source": [
        "Import the required libraries"
      ]
    },
    {
      "cell_type": "code",
      "metadata": {
        "id": "_x6agbsU3tGF",
        "colab_type": "code",
        "colab": {}
      },
      "source": [
        "from mrcnn.config import Config\n",
        "from mrcnn import model as modellib\n",
        "from mrcnn import visualize\n",
        "import mrcnn\n",
        "from mrcnn.utils import Dataset\n",
        "from mrcnn.model import MaskRCNN\n",
        "import numpy as np\n",
        "from numpy import zeros\n",
        "from numpy import asarray\n",
        "import colorsys\n",
        "import argparse\n",
        "import imutils\n",
        "import random\n",
        "import cv2\n",
        "import os\n",
        "import time\n",
        "from matplotlib import pyplot\n",
        "from matplotlib.patches import Rectangle\n",
        "from  tensorflow.keras.models import load_model\n",
        "%matplotlib inline\n",
        "from os import listdir\n",
        "from xml.etree import ElementTree"
      ],
      "execution_count": null,
      "outputs": []
    },
    {
      "cell_type": "markdown",
      "metadata": {
        "id": "5jPnytCcUt-A",
        "colab_type": "text"
      },
      "source": [
        "We create a myMaskRCNNConfig class for training on the buttons dataset. It is derived from the base Mask R-CNN Config class and overrides some values."
      ]
    },
    {
      "cell_type": "code",
      "metadata": {
        "id": "519G4MaP4hjr",
        "colab_type": "code",
        "colab": {}
      },
      "source": [
        "class myMaskRCNNConfig(Config):\n",
        "    # give the configuration a recognizable name\n",
        "    NAME = \"MaskRCNN_config\"\n",
        " \n",
        "    # set the number of GPUs to use along with the number of images\n",
        "    # per GPU\n",
        "    GPU_COUNT = 1\n",
        "    IMAGES_PER_GPU = 1\n",
        " \n",
        "    # number of classes (we would normally add +1 for the background)\n",
        "     # kangaroo + BG\n",
        "    NUM_CLASSES = 1+2\n",
        "   \n",
        "    # Number of training steps per epoch\n",
        "    STEPS_PER_EPOCH = 131\n",
        "    \n",
        "    # Learning rate\n",
        "    LEARNING_RATE=0.006\n",
        "    \n",
        "    # Skip detections with < 90% confidence\n",
        "    DETECTION_MIN_CONFIDENCE = 0.9\n",
        "    \n",
        "    # setting Max ground truth instances\n",
        "    MAX_GT_INSTANCES=10"
      ],
      "execution_count": null,
      "outputs": []
    },
    {
      "cell_type": "markdown",
      "metadata": {
        "id": "OhhvmaBaUyFQ",
        "colab_type": "text"
      },
      "source": [
        "Create an instance of the myMaskRCNNConfig class"
      ]
    },
    {
      "cell_type": "code",
      "metadata": {
        "id": "hGgEZGWQ4iFW",
        "colab_type": "code",
        "colab": {}
      },
      "source": [
        "config = myMaskRCNNConfig()\n",
        "config.display()"
      ],
      "execution_count": null,
      "outputs": []
    },
    {
      "cell_type": "markdown",
      "metadata": {
        "id": "8AMRz4r2U-ma",
        "colab_type": "text"
      },
      "source": [
        "Build the custom buttons data set."
      ]
    },
    {
      "cell_type": "code",
      "metadata": {
        "id": "UNMFqsmd4g1d",
        "colab_type": "code",
        "colab": {}
      },
      "source": [
        "class ButtonsDataset(Dataset):\n",
        "    # load the dataset definitions\n",
        "    def load_dataset(self, dataset_dir, is_train=True):\n",
        "        \n",
        "        # Add classes. We have only one class to add.\n",
        "        self.add_class(\"Buttons\", 1, \"button\")\n",
        "        self.add_class(\"Buttons\", 2, \"button_off\")\n",
        "        # define data locations for images and annotations\n",
        "        images_dir = dataset_dir + '//images//'\n",
        "        annotations_dir = dataset_dir + '//annotations//'\n",
        "        \n",
        "        # Iterate through all files in the folder to \n",
        "        #add class, images and annotaions\n",
        "        for filename in listdir(images_dir):\n",
        "            \n",
        "            # extract image id\n",
        "            image_id = filename[:-4]\n",
        "                        \n",
        "            # setting image file\n",
        "            img_path = images_dir + filename\n",
        "            \n",
        "            # setting annotations file\n",
        "            ann_path = annotations_dir + image_id + '.xml'\n",
        "            \n",
        "            # adding images and annotations to dataset\n",
        "            self.add_image('Buttons', image_id=image_id, path=img_path, annotation=ann_path)\n",
        "# extract bounding boxes from an annotation file\n",
        "    def extract_boxes(self, filename):\n",
        "        \n",
        "        # load and parse the file\n",
        "        tree = ElementTree.parse(filename)\n",
        "        # get the root of the document\n",
        "        root = tree.getroot()\n",
        "        # extract each bounding box\n",
        "        boxes = list()\n",
        "        class_names = list()\n",
        "        for name in root.findall('object'):\n",
        "            class_name = name.find('name').text\n",
        "            class_names.append(class_name)\n",
        "        for box in root.findall('.//bndbox'):\n",
        "            xmin = int(box.find('xmin').text)\n",
        "            ymin = int(box.find('ymin').text)\n",
        "            xmax = int(box.find('xmax').text)\n",
        "            ymax = int(box.find('ymax').text)\n",
        "            coors = [xmin, ymin, xmax, ymax]\n",
        "            boxes.append(coors)\n",
        "        \n",
        "        # extract image dimensions\n",
        "        width = int(root.find('.//size/width').text)\n",
        "        height = int(root.find('.//size/height').text)\n",
        "        return boxes, width, height, class_names\n",
        "# load the masks for an image\n",
        "    \"\"\"Generate instance masks for an image.\n",
        "       Returns:\n",
        "        masks: A bool array of shape [height, width, instance count] with\n",
        "            one mask per instance.\n",
        "        class_ids: a 1D array of class IDs of the instance masks.\n",
        "     \"\"\"\n",
        "    def load_mask(self, image_id):\n",
        "        # get details of image\n",
        "        info = self.image_info[image_id]\n",
        "        # define anntation  file location\n",
        "        path = info['annotation']\n",
        "        # load XML\n",
        "        boxes, w, h, class_names = self.extract_boxes(path)\n",
        "        # create one array for all masks, each on a different channel\n",
        "        masks = zeros([h, w, len(boxes)], dtype='uint8')\n",
        "        \n",
        "        # create masks\n",
        "        class_ids = list()\n",
        "        for i in range(len(boxes)):\n",
        "            box = boxes[i]\n",
        "            row_s, row_e = box[1], box[3]\n",
        "            col_s, col_e = box[0], box[2]\n",
        "            masks[row_s:row_e, col_s:col_e, i] = 1\n",
        "            class_ids.append(self.class_names.index(class_names[i]))\n",
        "        return masks, asarray(class_ids, dtype='int32')\n",
        "# load an image reference\n",
        "     # Return the path of the image\n",
        "    def image_reference(self, image_id):\n",
        "        info = self.image_info[image_id]\n",
        "        return info['path']"
      ],
      "execution_count": null,
      "outputs": []
    },
    {
      "cell_type": "markdown",
      "metadata": {
        "id": "2QlEworwVBZB",
        "colab_type": "text"
      },
      "source": [
        "Prepare the train and test set\n"
      ]
    },
    {
      "cell_type": "code",
      "metadata": {
        "id": "57D7Tl_Qvw1x",
        "colab_type": "code",
        "colab": {}
      },
      "source": [
        "# prepare train set\n",
        "train_set =ButtonsDataset()\n",
        "train_set.load_dataset('..//..//..//drive//My Drive//Buttons//train', is_train=True)\n",
        "train_set.prepare()\n",
        "print('Train: %d' % len(train_set.image_ids))\n",
        "# prepare test/val set\n",
        "test_set = ButtonsDataset()\n",
        "test_set.load_dataset('..//..//..//drive//My Drive//Buttons//verification', is_train=False)\n",
        "test_set.prepare()\n",
        "print('Test: %d' % len(test_set.image_ids))"
      ],
      "execution_count": null,
      "outputs": []
    },
    {
      "cell_type": "markdown",
      "metadata": {
        "id": "dlqzYyR8VDns",
        "colab_type": "text"
      },
      "source": [
        "Initialize Mask R-CNN model for “training” using the Config instance that we created"
      ]
    },
    {
      "cell_type": "code",
      "metadata": {
        "id": "nVwr3rHB4T9G",
        "colab_type": "code",
        "colab": {}
      },
      "source": [
        "print(\"Loading Mask R-CNN model...\")\n",
        "model = modellib.MaskRCNN(mode=\"training\", config=config, model_dir='./')"
      ],
      "execution_count": null,
      "outputs": []
    },
    {
      "cell_type": "markdown",
      "metadata": {
        "id": "Syd3EXxLVGMT",
        "colab_type": "text"
      },
      "source": [
        "Load the pre-trained weights for the Mask R-CNN from COCO data set excluding the last few layers"
      ]
    },
    {
      "cell_type": "code",
      "metadata": {
        "id": "Fe6cNAlx7CCB",
        "colab_type": "code",
        "colab": {}
      },
      "source": [
        "#load the weights for COCO\n",
        "\n",
        "model.load_weights('..//..//..//drive//My Drive//models//mask-rcnn//mask_rcnn_coco.h5', \n",
        "                   by_name=True, \n",
        "                   exclude=[\"mrcnn_class_logits\", \"mrcnn_bbox_fc\",  \"mrcnn_bbox\", \"mrcnn_mask\"])"
      ],
      "execution_count": null,
      "outputs": []
    },
    {
      "cell_type": "markdown",
      "metadata": {
        "id": "snqYuP3kVIat",
        "colab_type": "text"
      },
      "source": [
        "Train the heads with higher learning rate to speed up the learning"
      ]
    },
    {
      "cell_type": "code",
      "metadata": {
        "id": "_A01cFWrSLAD",
        "colab_type": "code",
        "colab": {}
      },
      "source": [
        "## train heads with higher lr to speedup the learning\n",
        "model.train(train_set, test_set, learning_rate=2*config.LEARNING_RATE, epochs=5, layers='heads')\n",
        "history = model.keras_model.history.history"
      ],
      "execution_count": null,
      "outputs": []
    },
    {
      "cell_type": "markdown",
      "metadata": {
        "id": "Juu7yg2YUWmb",
        "colab_type": "text"
      },
      "source": [
        "Save the trained weights for custom data set"
      ]
    },
    {
      "cell_type": "code",
      "metadata": {
        "id": "VsbUPf0WcboL",
        "colab_type": "code",
        "colab": {}
      },
      "source": [
        "import time\n",
        "model_path = '..//..//..//drive//My Drive//models//maskrcnn_Buttons_TF2.2Epoch5Lr0.06.h5'\n",
        "model.keras_model.save_weights(model_path)"
      ],
      "execution_count": null,
      "outputs": []
    },
    {
      "cell_type": "markdown",
      "metadata": {
        "id": "n5PnbV9IVPkj",
        "colab_type": "text"
      },
      "source": [
        "Detecting objects in the image with masks and bounding box from the trained model"
      ]
    },
    {
      "cell_type": "code",
      "metadata": {
        "id": "9GKMaLwThnGR",
        "colab_type": "code",
        "colab": {}
      },
      "source": [
        "from keras.preprocessing.image import load_img\n",
        "from keras.preprocessing.image import img_to_array\n",
        "#Loading the model in the inference mode\n",
        "model = modellib.MaskRCNN(mode=\"inference\", config=config, model_dir='./')\n",
        "# loading the trained weights o the custom dataset\n",
        "model.load_weights(model_path, by_name=True)\n",
        "img = load_img(\"..//..//..//drive//My Drive//Buttons//sample-images//EnableDolby__HP__2YConfDAHT__1024x768.png\")\n",
        "img = img_to_array(img)\n",
        "\n",
        "results= model.detect([img],verbose=1)\n",
        "# Display results\n",
        "\n",
        "r = results[0]\n",
        "print(test_set.class_names)\n",
        "visualize.display_instances(img, r['rois'], r['masks'], r['class_ids'], \n",
        "                            test_set.class_names, r['scores'], \n",
        "                            title=\"Predictions\")"
      ],
      "execution_count": null,
      "outputs": []
    }
  ]
}